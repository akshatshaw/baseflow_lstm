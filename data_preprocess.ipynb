{
 "cells": [
  {
   "cell_type": "code",
   "execution_count": 8,
   "id": "b533d28b",
   "metadata": {},
   "outputs": [],
   "source": [
    "import pandas as pd\n",
    "import numpy as np"
   ]
  },
  {
   "cell_type": "code",
   "execution_count": 9,
   "id": "79f0234b",
   "metadata": {},
   "outputs": [],
   "source": [
    "df1 = pd.read_csv(r\"data\\CAMELS_IND_Catchments_Streamflow_Sufficient\\attributes_csv\\camels_ind_anth.csv\")\n",
    "df2 = pd.read_csv(r\"data\\CAMELS_IND_Catchments_Streamflow_Sufficient\\attributes_csv\\camels_ind_clim.csv\")\n",
    "df3 = pd.read_csv(r\"data\\CAMELS_IND_Catchments_Streamflow_Sufficient\\attributes_csv\\camels_ind_geol.csv\")\n",
    "df4 = pd.read_csv(r\"data\\CAMELS_IND_Catchments_Streamflow_Sufficient\\attributes_csv\\camels_ind_hydro.csv\")\n",
    "df5 = pd.read_csv(r\"data\\CAMELS_IND_Catchments_Streamflow_Sufficient\\attributes_csv\\camels_ind_land.csv\")\n",
    "df6 = pd.read_csv(r\"data\\CAMELS_IND_Catchments_Streamflow_Sufficient\\attributes_csv\\camels_ind_name.csv\")\n",
    "df7 = pd.read_csv(r\"data\\CAMELS_IND_Catchments_Streamflow_Sufficient\\attributes_csv\\camels_ind_soil.csv\")\n",
    "df8 = pd.read_csv(r\"data\\CAMELS_IND_Catchments_Streamflow_Sufficient\\attributes_csv\\camels_ind_topo.csv\")"
   ]
  },
  {
   "cell_type": "code",
   "execution_count": 10,
   "id": "fa65d953",
   "metadata": {},
   "outputs": [],
   "source": [
    "# Merge all dataframes on gauge_id to include all gauge IDs\n",
    "df_merged = df1.merge(df2, on='gauge_id', how='outer') \\\n",
    "              .merge(df3, on='gauge_id', how='outer') \\\n",
    "              .merge(df4, on='gauge_id', how='outer') \\\n",
    "              .merge(df5, on='gauge_id', how='outer') \\\n",
    "              .merge(df6, on='gauge_id', how='outer') \\\n",
    "              .merge(df7, on='gauge_id', how='outer') \\\n",
    "              .merge(df8, on='gauge_id', how='outer')"
   ]
  },
  {
   "cell_type": "code",
   "execution_count": 11,
   "id": "acc3c11e",
   "metadata": {},
   "outputs": [
    {
     "name": "stdout",
     "output_type": "stream",
     "text": [
      "Merged DataFrame shape: (242, 211)\n",
      "Number of unique gauge IDs: 242\n",
      "Number of columns: 211\n"
     ]
    }
   ],
   "source": [
    "# Check the shape and number of unique gauge IDs\n",
    "print(f\"Merged DataFrame shape: {df_merged.shape}\")\n",
    "print(f\"Number of unique gauge IDs: {df_merged['gauge_id'].nunique()}\")\n",
    "print(f\"Number of columns: {len(df_merged.columns)}\")"
   ]
  },
  {
   "cell_type": "code",
   "execution_count": 12,
   "id": "f99de0d0",
   "metadata": {},
   "outputs": [
    {
     "name": "stdout",
     "output_type": "stream",
     "text": [
      "Duplicate columns: []\n"
     ]
    }
   ],
   "source": [
    "# Check for any duplicate columns (shouldn't be any with proper merge)\n",
    "duplicate_cols = df_merged.columns[df_merged.columns.duplicated()].tolist()\n",
    "print(f\"Duplicate columns: {duplicate_cols}\")"
   ]
  },
  {
   "cell_type": "code",
   "execution_count": 13,
   "id": "3ae77da0",
   "metadata": {},
   "outputs": [],
   "source": [
    "# Remove any duplicate columns if they exist\n",
    "df_merged = df_merged.loc[:, ~df_merged.columns.duplicated()]"
   ]
  },
  {
   "cell_type": "code",
   "execution_count": 14,
   "id": "8e344d5b",
   "metadata": {},
   "outputs": [
    {
     "name": "stdout",
     "output_type": "stream",
     "text": [
      "Merged dataset saved as 'static_all_gauges.csv'\n"
     ]
    }
   ],
   "source": [
    "# Save the complete merged dataset\n",
    "df_merged.to_csv(\"static_all_gauges.csv\", index=False)\n",
    "print(\"Merged dataset saved as 'static_all_gauges.csv'\")"
   ]
  },
  {
   "cell_type": "code",
   "execution_count": null,
   "id": "ccda00f3",
   "metadata": {},
   "outputs": [],
   "source": []
  }
 ],
 "metadata": {
  "kernelspec": {
   "display_name": "base",
   "language": "python",
   "name": "python3"
  },
  "language_info": {
   "codemirror_mode": {
    "name": "ipython",
    "version": 3
   },
   "file_extension": ".py",
   "mimetype": "text/x-python",
   "name": "python",
   "nbconvert_exporter": "python",
   "pygments_lexer": "ipython3",
   "version": "3.11.5"
  }
 },
 "nbformat": 4,
 "nbformat_minor": 5
}
