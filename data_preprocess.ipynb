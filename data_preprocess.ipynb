{
 "cells": [
  {
   "cell_type": "code",
   "execution_count": 1,
   "id": "b533d28b",
   "metadata": {},
   "outputs": [
    {
     "name": "stderr",
     "output_type": "stream",
     "text": [
      "c:\\Users\\AKSHAT SHAW\\anaconda3\\Lib\\site-packages\\pandas\\core\\arrays\\masked.py:60: UserWarning: Pandas requires version '1.3.6' or newer of 'bottleneck' (version '1.3.5' currently installed).\n",
      "  from pandas.core import (\n"
     ]
    }
   ],
   "source": [
    "import pandas as pd\n",
    "import numpy as np"
   ]
  },
  {
   "cell_type": "code",
   "execution_count": 4,
   "id": "79f0234b",
   "metadata": {},
   "outputs": [],
   "source": [
    "df1 = pd.read_csv(r\"data\\CAMELS_IND_Catchments_Streamflow_Sufficient\\attributes_csv\\camels_ind_anth.csv\")\n",
    "df2 = pd.read_csv(r\"data\\CAMELS_IND_Catchments_Streamflow_Sufficient\\attributes_csv\\camels_ind_clim.csv\")\n",
    "df3 = pd.read_csv(r\"data\\CAMELS_IND_Catchments_Streamflow_Sufficient\\attributes_csv\\camels_ind_geol.csv\")\n",
    "df4 = pd.read_csv(r\"data\\CAMELS_IND_Catchments_Streamflow_Sufficient\\attributes_csv\\camels_ind_hydro.csv\")\n",
    "df5 = pd.read_csv(r\"data\\CAMELS_IND_Catchments_Streamflow_Sufficient\\attributes_csv\\camels_ind_land.csv\")\n",
    "df6 = pd.read_csv(r\"data\\CAMELS_IND_Catchments_Streamflow_Sufficient\\attributes_csv\\camels_ind_name.csv\")\n",
    "df7 = pd.read_csv(r\"data\\CAMELS_IND_Catchments_Streamflow_Sufficient\\attributes_csv\\camels_ind_soil.csv\")\n",
    "df8 = pd.read_csv(r\"data\\CAMELS_IND_Catchments_Streamflow_Sufficient\\attributes_csv\\camels_ind_topo.csv\")"
   ]
  },
  {
   "cell_type": "code",
   "execution_count": 11,
   "id": "fa65d953",
   "metadata": {},
   "outputs": [],
   "source": [
    "df1 = df1[df1['gauge_id']== 3005]\n",
    "df2 = df2[df2['gauge_id']== 3005]\n",
    "df3 = df3[df3['gauge_id']== 3005]\n",
    "df4 = df4[df4['gauge_id']== 3005]\n",
    "df5 = df5[df5['gauge_id']== 3005]\n",
    "df6 = df6[df6['gauge_id']== 3005]\n",
    "df7 = df7[df7['gauge_id']== 3005]"
   ]
  },
  {
   "cell_type": "code",
   "execution_count": 12,
   "id": "acc3c11e",
   "metadata": {},
   "outputs": [],
   "source": [
    "df_merged = pd.concat([df1, df2, df3, df4, df5, df6, df7], axis=1)"
   ]
  },
  {
   "cell_type": "code",
   "execution_count": 28,
   "id": "f99de0d0",
   "metadata": {},
   "outputs": [
    {
     "data": {
      "text/plain": [
       "195"
      ]
     },
     "execution_count": 28,
     "metadata": {},
     "output_type": "execute_result"
    }
   ],
   "source": [
    "len(df_merged.columns.unique())"
   ]
  },
  {
   "cell_type": "code",
   "execution_count": 25,
   "id": "3ae77da0",
   "metadata": {},
   "outputs": [],
   "source": [
    "df_merged = df_merged.loc[:, ~df_merged.columns.duplicated()]"
   ]
  },
  {
   "cell_type": "code",
   "execution_count": 29,
   "id": "8e344d5b",
   "metadata": {},
   "outputs": [],
   "source": [
    "df_merged.to_csv(\"static_3005.csv\", index = False)"
   ]
  }
 ],
 "metadata": {
  "kernelspec": {
   "display_name": "base",
   "language": "python",
   "name": "python3"
  },
  "language_info": {
   "codemirror_mode": {
    "name": "ipython",
    "version": 3
   },
   "file_extension": ".py",
   "mimetype": "text/x-python",
   "name": "python",
   "nbconvert_exporter": "python",
   "pygments_lexer": "ipython3",
   "version": "3.11.5"
  }
 },
 "nbformat": 4,
 "nbformat_minor": 5
}
