{
 "cells": [
  {
   "cell_type": "code",
   "execution_count": 1,
   "id": "5a2a4c9b",
   "metadata": {},
   "outputs": [],
   "source": [
    "import pandas as pd\n",
    "import numpy as np"
   ]
  },
  {
   "cell_type": "code",
   "execution_count": 5,
   "id": "bb19dde7",
   "metadata": {},
   "outputs": [],
   "source": [
    "df_cluster_0 = pd.read_csv(\"../output/merged_clustered/cluster_0_combined.csv\")"
   ]
  },
  {
   "cell_type": "code",
   "execution_count": 6,
   "metadata": {},
   "outputs": [
    {
     "data": {
      "application/vnd.microsoft.datawrangler.viewer.v0+json": {
       "columns": [
        {
         "name": "index",
         "rawType": "int64",
         "type": "integer"
        },
        {
         "name": "prcp(mm/day)",
         "rawType": "float64",
         "type": "float"
        },
        {
         "name": "tmax(C)",
         "rawType": "float64",
         "type": "float"
        },
        {
         "name": "tmin(C)",
         "rawType": "float64",
         "type": "float"
        },
        {
         "name": "tavg(C)",
         "rawType": "float64",
         "type": "float"
        },
        {
         "name": "srad_lw(w/m2)",
         "rawType": "float64",
         "type": "float"
        },
        {
         "name": "srad_sw(w/m2)",
         "rawType": "float64",
         "type": "float"
        },
        {
         "name": "wind_u(m/s)",
         "rawType": "float64",
         "type": "float"
        },
        {
         "name": "wind_v(m/s)",
         "rawType": "float64",
         "type": "float"
        },
        {
         "name": "wind(m/s)",
         "rawType": "float64",
         "type": "float"
        },
        {
         "name": "rel_hum(%)",
         "rawType": "float64",
         "type": "float"
        },
        {
         "name": "pet(mm/day)",
         "rawType": "float64",
         "type": "float"
        },
        {
         "name": "pet_gleam(mm/day)",
         "rawType": "float64",
         "type": "float"
        },
        {
         "name": "aet_gleam(mm/day)",
         "rawType": "float64",
         "type": "float"
        },
        {
         "name": "evap_canopy(kg/m2/s)",
         "rawType": "float64",
         "type": "float"
        },
        {
         "name": "evap_surface(kg/m2/s)",
         "rawType": "float64",
         "type": "float"
        },
        {
         "name": "sm_lvl1(kg/m2)",
         "rawType": "float64",
         "type": "float"
        },
        {
         "name": "sm_lvl2(kg/m2)",
         "rawType": "float64",
         "type": "float"
        },
        {
         "name": "sm_lvl3(kg/m2)",
         "rawType": "float64",
         "type": "float"
        },
        {
         "name": "sm_lvl4(kg/m2)",
         "rawType": "float64",
         "type": "float"
        },
        {
         "name": "Soil_Moisture_Sum",
         "rawType": "float64",
         "type": "float"
        },
        {
         "name": "Soil_Saturation",
         "rawType": "float64",
         "type": "float"
        },
        {
         "name": "soil_awsc_max",
         "rawType": "int64",
         "type": "integer"
        },
        {
         "name": "Actual_Soil_Saturation",
         "rawType": "float64",
         "type": "float"
        },
        {
         "name": "umap_40d_dim_1",
         "rawType": "float64",
         "type": "float"
        },
        {
         "name": "umap_40d_dim_2",
         "rawType": "float64",
         "type": "float"
        },
        {
         "name": "umap_40d_dim_3",
         "rawType": "float64",
         "type": "float"
        },
        {
         "name": "umap_40d_dim_4",
         "rawType": "float64",
         "type": "float"
        },
        {
         "name": "umap_40d_dim_5",
         "rawType": "float64",
         "type": "float"
        },
        {
         "name": "umap_40d_dim_6",
         "rawType": "float64",
         "type": "float"
        },
        {
         "name": "umap_40d_dim_7",
         "rawType": "float64",
         "type": "float"
        },
        {
         "name": "umap_40d_dim_8",
         "rawType": "float64",
         "type": "float"
        },
        {
         "name": "umap_40d_dim_9",
         "rawType": "float64",
         "type": "float"
        },
        {
         "name": "umap_40d_dim_10",
         "rawType": "float64",
         "type": "float"
        },
        {
         "name": "umap_40d_dim_11",
         "rawType": "float64",
         "type": "float"
        },
        {
         "name": "umap_40d_dim_12",
         "rawType": "float64",
         "type": "float"
        },
        {
         "name": "umap_40d_dim_13",
         "rawType": "float64",
         "type": "float"
        },
        {
         "name": "umap_40d_dim_14",
         "rawType": "float64",
         "type": "float"
        },
        {
         "name": "umap_40d_dim_15",
         "rawType": "float64",
         "type": "float"
        },
        {
         "name": "umap_40d_dim_16",
         "rawType": "float64",
         "type": "float"
        },
        {
         "name": "umap_40d_dim_17",
         "rawType": "float64",
         "type": "float"
        },
        {
         "name": "umap_40d_dim_18",
         "rawType": "float64",
         "type": "float"
        },
        {
         "name": "umap_40d_dim_19",
         "rawType": "float64",
         "type": "float"
        },
        {
         "name": "umap_40d_dim_20",
         "rawType": "float64",
         "type": "float"
        },
        {
         "name": "umap_40d_dim_21",
         "rawType": "float64",
         "type": "float"
        },
        {
         "name": "umap_40d_dim_22",
         "rawType": "float64",
         "type": "float"
        },
        {
         "name": "umap_40d_dim_23",
         "rawType": "float64",
         "type": "float"
        },
        {
         "name": "umap_40d_dim_24",
         "rawType": "float64",
         "type": "float"
        },
        {
         "name": "umap_40d_dim_25",
         "rawType": "float64",
         "type": "float"
        },
        {
         "name": "umap_40d_dim_26",
         "rawType": "float64",
         "type": "float"
        },
        {
         "name": "umap_40d_dim_27",
         "rawType": "float64",
         "type": "float"
        },
        {
         "name": "umap_40d_dim_28",
         "rawType": "float64",
         "type": "float"
        },
        {
         "name": "umap_40d_dim_29",
         "rawType": "float64",
         "type": "float"
        },
        {
         "name": "umap_40d_dim_30",
         "rawType": "float64",
         "type": "float"
        },
        {
         "name": "umap_40d_dim_31",
         "rawType": "float64",
         "type": "float"
        },
        {
         "name": "umap_40d_dim_32",
         "rawType": "float64",
         "type": "float"
        },
        {
         "name": "umap_40d_dim_33",
         "rawType": "float64",
         "type": "float"
        },
        {
         "name": "umap_40d_dim_34",
         "rawType": "float64",
         "type": "float"
        },
        {
         "name": "umap_40d_dim_35",
         "rawType": "float64",
         "type": "float"
        },
        {
         "name": "umap_40d_dim_36",
         "rawType": "float64",
         "type": "float"
        },
        {
         "name": "umap_40d_dim_37",
         "rawType": "float64",
         "type": "float"
        },
        {
         "name": "umap_40d_dim_38",
         "rawType": "float64",
         "type": "float"
        },
        {
         "name": "umap_40d_dim_39",
         "rawType": "float64",
         "type": "float"
        },
        {
         "name": "umap_40d_dim_40",
         "rawType": "float64",
         "type": "float"
        },
        {
         "name": "cluster",
         "rawType": "int64",
         "type": "integer"
        },
        {
         "name": "gauge_id",
         "rawType": "int64",
         "type": "integer"
        },
        {
         "name": "baseflow",
         "rawType": "float64",
         "type": "float"
        }
       ],
       "ref": "9f940f20-57d9-4824-b689-9d0aa4b5a691",
       "rows": [
        [
         "0",
         "0.0",
         "29.59",
         "14.28",
         "21.94",
         "338.99",
         "297.96",
         "1.32",
         "-0.49",
         "1.41",
         "55.59",
         null,
         "2.61",
         "1.25",
         "0.0",
         "0.26",
         "2.85",
         "62.4",
         "145.96",
         "546.39",
         "757.6",
         "756.35",
         "150",
         "5.042333333333334",
         "-3.5291724",
         "4.4134817",
         "5.686585",
         "5.7592173",
         "0.77261394",
         "7.0305986",
         "7.020384",
         "2.1269555",
         "1.6584538",
         "5.6701603",
         "1.1576574",
         "3.3076293",
         "7.4532127",
         "7.2762585",
         "7.787317",
         "1.2191465",
         "3.9904876",
         "2.0113425",
         "7.065159",
         "5.5108137",
         "8.123682",
         "8.936904",
         "7.53465",
         "4.2121553",
         "5.685485",
         "3.5472155",
         "2.967197",
         "6.228373",
         "5.4060855",
         "2.2682378",
         "2.1208782",
         "7.830662",
         "4.3520412",
         "5.1424",
         "6.6736975",
         "2.7404377",
         "8.138597",
         "6.841072",
         "4.864698",
         "8.100951",
         "0",
         "4005",
         null
        ],
        [
         "1",
         "0.0",
         "29.45",
         "14.4",
         "21.92",
         "346.42",
         "295.43",
         "1.83",
         "-0.12",
         "1.83",
         "54.63",
         null,
         "2.65",
         "1.4",
         "0.0",
         "0.25",
         "2.76",
         "62.36",
         "145.96",
         "546.34",
         "757.4200000000001",
         "756.0200000000001",
         "150",
         "5.040133333333334",
         "-3.5291724",
         "4.4134817",
         "5.686585",
         "5.7592173",
         "0.77261394",
         "7.0305986",
         "7.020384",
         "2.1269555",
         "1.6584538",
         "5.6701603",
         "1.1576574",
         "3.3076293",
         "7.4532127",
         "7.2762585",
         "7.787317",
         "1.2191465",
         "3.9904876",
         "2.0113425",
         "7.065159",
         "5.5108137",
         "8.123682",
         "8.936904",
         "7.53465",
         "4.2121553",
         "5.685485",
         "3.5472155",
         "2.967197",
         "6.228373",
         "5.4060855",
         "2.2682378",
         "2.1208782",
         "7.830662",
         "4.3520412",
         "5.1424",
         "6.6736975",
         "2.7404377",
         "8.138597",
         "6.841072",
         "4.864698",
         "8.100951",
         "0",
         "4005",
         null
        ],
        [
         "2",
         "0.0",
         "29.62",
         "14.87",
         "22.24",
         "345.24",
         "291.91",
         "2.18",
         "-0.31",
         "2.2",
         "57.0",
         null,
         "2.66",
         "1.25",
         "0.0",
         "0.25",
         "2.68",
         "62.31",
         "145.95",
         "546.22",
         "757.1600000000001",
         "755.9100000000001",
         "150",
         "5.0394000000000005",
         "-3.5291724",
         "4.4134817",
         "5.686585",
         "5.7592173",
         "0.77261394",
         "7.0305986",
         "7.020384",
         "2.1269555",
         "1.6584538",
         "5.6701603",
         "1.1576574",
         "3.3076293",
         "7.4532127",
         "7.2762585",
         "7.787317",
         "1.2191465",
         "3.9904876",
         "2.0113425",
         "7.065159",
         "5.5108137",
         "8.123682",
         "8.936904",
         "7.53465",
         "4.2121553",
         "5.685485",
         "3.5472155",
         "2.967197",
         "6.228373",
         "5.4060855",
         "2.2682378",
         "2.1208782",
         "7.830662",
         "4.3520412",
         "5.1424",
         "6.6736975",
         "2.7404377",
         "8.138597",
         "6.841072",
         "4.864698",
         "8.100951",
         "0",
         "4005",
         null
        ],
        [
         "3",
         "0.0",
         "29.48",
         "15.25",
         "22.36",
         "355.33",
         "294.54",
         "0.0",
         "0.16",
         "0.16",
         "51.74",
         null,
         "2.72",
         "1.24",
         "0.0",
         "0.24",
         "2.6",
         "62.27",
         "145.95",
         "546.17",
         "756.99",
         "755.75",
         "150",
         "5.038333333333333",
         "-3.5291724",
         "4.4134817",
         "5.686585",
         "5.7592173",
         "0.77261394",
         "7.0305986",
         "7.020384",
         "2.1269555",
         "1.6584538",
         "5.6701603",
         "1.1576574",
         "3.3076293",
         "7.4532127",
         "7.2762585",
         "7.787317",
         "1.2191465",
         "3.9904876",
         "2.0113425",
         "7.065159",
         "5.5108137",
         "8.123682",
         "8.936904",
         "7.53465",
         "4.2121553",
         "5.685485",
         "3.5472155",
         "2.967197",
         "6.228373",
         "5.4060855",
         "2.2682378",
         "2.1208782",
         "7.830662",
         "4.3520412",
         "5.1424",
         "6.6736975",
         "2.7404377",
         "8.138597",
         "6.841072",
         "4.864698",
         "8.100951",
         "0",
         "4005",
         null
        ],
        [
         "4",
         "0.0",
         "29.59",
         "15.68",
         "22.64",
         "358.81",
         "293.83",
         "-0.28",
         "0.89",
         "0.93",
         "54.56",
         null,
         "2.61",
         "1.16",
         "0.0",
         "0.25",
         "2.54",
         "62.23",
         "145.93",
         "546.09",
         "756.79",
         "755.63",
         "150",
         "5.037533333333333",
         "-3.5291724",
         "4.4134817",
         "5.686585",
         "5.7592173",
         "0.77261394",
         "7.0305986",
         "7.020384",
         "2.1269555",
         "1.6584538",
         "5.6701603",
         "1.1576574",
         "3.3076293",
         "7.4532127",
         "7.2762585",
         "7.787317",
         "1.2191465",
         "3.9904876",
         "2.0113425",
         "7.065159",
         "5.5108137",
         "8.123682",
         "8.936904",
         "7.53465",
         "4.2121553",
         "5.685485",
         "3.5472155",
         "2.967197",
         "6.228373",
         "5.4060855",
         "2.2682378",
         "2.1208782",
         "7.830662",
         "4.3520412",
         "5.1424",
         "6.6736975",
         "2.7404377",
         "8.138597",
         "6.841072",
         "4.864698",
         "8.100951",
         "0",
         "4005",
         null
        ]
       ],
       "shape": {
        "columns": 66,
        "rows": 5
       }
      },
      "text/html": [
       "<div>\n",
       "<style scoped>\n",
       "    .dataframe tbody tr th:only-of-type {\n",
       "        vertical-align: middle;\n",
       "    }\n",
       "\n",
       "    .dataframe tbody tr th {\n",
       "        vertical-align: top;\n",
       "    }\n",
       "\n",
       "    .dataframe thead th {\n",
       "        text-align: right;\n",
       "    }\n",
       "</style>\n",
       "<table border=\"1\" class=\"dataframe\">\n",
       "  <thead>\n",
       "    <tr style=\"text-align: right;\">\n",
       "      <th></th>\n",
       "      <th>prcp(mm/day)</th>\n",
       "      <th>tmax(C)</th>\n",
       "      <th>tmin(C)</th>\n",
       "      <th>tavg(C)</th>\n",
       "      <th>srad_lw(w/m2)</th>\n",
       "      <th>srad_sw(w/m2)</th>\n",
       "      <th>wind_u(m/s)</th>\n",
       "      <th>wind_v(m/s)</th>\n",
       "      <th>wind(m/s)</th>\n",
       "      <th>rel_hum(%)</th>\n",
       "      <th>...</th>\n",
       "      <th>umap_40d_dim_34</th>\n",
       "      <th>umap_40d_dim_35</th>\n",
       "      <th>umap_40d_dim_36</th>\n",
       "      <th>umap_40d_dim_37</th>\n",
       "      <th>umap_40d_dim_38</th>\n",
       "      <th>umap_40d_dim_39</th>\n",
       "      <th>umap_40d_dim_40</th>\n",
       "      <th>cluster</th>\n",
       "      <th>gauge_id</th>\n",
       "      <th>baseflow</th>\n",
       "    </tr>\n",
       "  </thead>\n",
       "  <tbody>\n",
       "    <tr>\n",
       "      <th>0</th>\n",
       "      <td>0.0</td>\n",
       "      <td>29.59</td>\n",
       "      <td>14.28</td>\n",
       "      <td>21.94</td>\n",
       "      <td>338.99</td>\n",
       "      <td>297.96</td>\n",
       "      <td>1.32</td>\n",
       "      <td>-0.49</td>\n",
       "      <td>1.41</td>\n",
       "      <td>55.59</td>\n",
       "      <td>...</td>\n",
       "      <td>5.1424</td>\n",
       "      <td>6.673698</td>\n",
       "      <td>2.740438</td>\n",
       "      <td>8.138597</td>\n",
       "      <td>6.841072</td>\n",
       "      <td>4.864698</td>\n",
       "      <td>8.100951</td>\n",
       "      <td>0</td>\n",
       "      <td>4005</td>\n",
       "      <td>NaN</td>\n",
       "    </tr>\n",
       "    <tr>\n",
       "      <th>1</th>\n",
       "      <td>0.0</td>\n",
       "      <td>29.45</td>\n",
       "      <td>14.40</td>\n",
       "      <td>21.92</td>\n",
       "      <td>346.42</td>\n",
       "      <td>295.43</td>\n",
       "      <td>1.83</td>\n",
       "      <td>-0.12</td>\n",
       "      <td>1.83</td>\n",
       "      <td>54.63</td>\n",
       "      <td>...</td>\n",
       "      <td>5.1424</td>\n",
       "      <td>6.673698</td>\n",
       "      <td>2.740438</td>\n",
       "      <td>8.138597</td>\n",
       "      <td>6.841072</td>\n",
       "      <td>4.864698</td>\n",
       "      <td>8.100951</td>\n",
       "      <td>0</td>\n",
       "      <td>4005</td>\n",
       "      <td>NaN</td>\n",
       "    </tr>\n",
       "    <tr>\n",
       "      <th>2</th>\n",
       "      <td>0.0</td>\n",
       "      <td>29.62</td>\n",
       "      <td>14.87</td>\n",
       "      <td>22.24</td>\n",
       "      <td>345.24</td>\n",
       "      <td>291.91</td>\n",
       "      <td>2.18</td>\n",
       "      <td>-0.31</td>\n",
       "      <td>2.20</td>\n",
       "      <td>57.00</td>\n",
       "      <td>...</td>\n",
       "      <td>5.1424</td>\n",
       "      <td>6.673698</td>\n",
       "      <td>2.740438</td>\n",
       "      <td>8.138597</td>\n",
       "      <td>6.841072</td>\n",
       "      <td>4.864698</td>\n",
       "      <td>8.100951</td>\n",
       "      <td>0</td>\n",
       "      <td>4005</td>\n",
       "      <td>NaN</td>\n",
       "    </tr>\n",
       "    <tr>\n",
       "      <th>3</th>\n",
       "      <td>0.0</td>\n",
       "      <td>29.48</td>\n",
       "      <td>15.25</td>\n",
       "      <td>22.36</td>\n",
       "      <td>355.33</td>\n",
       "      <td>294.54</td>\n",
       "      <td>0.00</td>\n",
       "      <td>0.16</td>\n",
       "      <td>0.16</td>\n",
       "      <td>51.74</td>\n",
       "      <td>...</td>\n",
       "      <td>5.1424</td>\n",
       "      <td>6.673698</td>\n",
       "      <td>2.740438</td>\n",
       "      <td>8.138597</td>\n",
       "      <td>6.841072</td>\n",
       "      <td>4.864698</td>\n",
       "      <td>8.100951</td>\n",
       "      <td>0</td>\n",
       "      <td>4005</td>\n",
       "      <td>NaN</td>\n",
       "    </tr>\n",
       "    <tr>\n",
       "      <th>4</th>\n",
       "      <td>0.0</td>\n",
       "      <td>29.59</td>\n",
       "      <td>15.68</td>\n",
       "      <td>22.64</td>\n",
       "      <td>358.81</td>\n",
       "      <td>293.83</td>\n",
       "      <td>-0.28</td>\n",
       "      <td>0.89</td>\n",
       "      <td>0.93</td>\n",
       "      <td>54.56</td>\n",
       "      <td>...</td>\n",
       "      <td>5.1424</td>\n",
       "      <td>6.673698</td>\n",
       "      <td>2.740438</td>\n",
       "      <td>8.138597</td>\n",
       "      <td>6.841072</td>\n",
       "      <td>4.864698</td>\n",
       "      <td>8.100951</td>\n",
       "      <td>0</td>\n",
       "      <td>4005</td>\n",
       "      <td>NaN</td>\n",
       "    </tr>\n",
       "  </tbody>\n",
       "</table>\n",
       "<p>5 rows × 66 columns</p>\n",
       "</div>"
      ],
      "text/plain": [
       "   prcp(mm/day)  tmax(C)  tmin(C)  tavg(C)  srad_lw(w/m2)  srad_sw(w/m2)  \\\n",
       "0           0.0    29.59    14.28    21.94         338.99         297.96   \n",
       "1           0.0    29.45    14.40    21.92         346.42         295.43   \n",
       "2           0.0    29.62    14.87    22.24         345.24         291.91   \n",
       "3           0.0    29.48    15.25    22.36         355.33         294.54   \n",
       "4           0.0    29.59    15.68    22.64         358.81         293.83   \n",
       "\n",
       "   wind_u(m/s)  wind_v(m/s)  wind(m/s)  rel_hum(%)  ...  umap_40d_dim_34  \\\n",
       "0         1.32        -0.49       1.41       55.59  ...           5.1424   \n",
       "1         1.83        -0.12       1.83       54.63  ...           5.1424   \n",
       "2         2.18        -0.31       2.20       57.00  ...           5.1424   \n",
       "3         0.00         0.16       0.16       51.74  ...           5.1424   \n",
       "4        -0.28         0.89       0.93       54.56  ...           5.1424   \n",
       "\n",
       "   umap_40d_dim_35  umap_40d_dim_36  umap_40d_dim_37  umap_40d_dim_38  \\\n",
       "0         6.673698         2.740438         8.138597         6.841072   \n",
       "1         6.673698         2.740438         8.138597         6.841072   \n",
       "2         6.673698         2.740438         8.138597         6.841072   \n",
       "3         6.673698         2.740438         8.138597         6.841072   \n",
       "4         6.673698         2.740438         8.138597         6.841072   \n",
       "\n",
       "   umap_40d_dim_39  umap_40d_dim_40  cluster  gauge_id  baseflow  \n",
       "0         4.864698         8.100951        0      4005       NaN  \n",
       "1         4.864698         8.100951        0      4005       NaN  \n",
       "2         4.864698         8.100951        0      4005       NaN  \n",
       "3         4.864698         8.100951        0      4005       NaN  \n",
       "4         4.864698         8.100951        0      4005       NaN  \n",
       "\n",
       "[5 rows x 66 columns]"
      ]
     },
     "execution_count": 6,
     "metadata": {},
     "output_type": "execute_result"
    }
   ],
   "source": [
    "df_cluster_0.head()"
   ]
  },
  {
   "cell_type": "code",
   "execution_count": null,
   "metadata": {},
   "outputs": [],
   "source": []
  },
  {
   "cell_type": "code",
   "execution_count": null,
   "metadata": {},
   "outputs": [],
   "source": []
  },
  {
   "cell_type": "code",
   "execution_count": null,
   "metadata": {},
   "outputs": [],
   "source": []
  },
  {
   "cell_type": "code",
   "execution_count": 7,
   "id": "7c47d306",
   "metadata": {},
   "outputs": [],
   "source": [
    "import torch \n",
    "import torch.nn as nn\n",
    "import torch.optim as optim\n",
    "import torch.nn.functional as F\n",
    "\n",
    "from sklearn.preprocessing import StandardScaler\n",
    "from sklearn.preprocessing import LabelEncoder"
   ]
  },
  {
   "cell_type": "code",
   "execution_count": 8,
   "id": "87adf2eb",
   "metadata": {},
   "outputs": [],
   "source": [
    "s = len(merged_df)"
   ]
  },
  {
   "cell_type": "code",
   "execution_count": 9,
   "id": "9ede6a01",
   "metadata": {},
   "outputs": [],
   "source": [
    "from torch.utils.data import Dataset, DataLoader, TensorDataset\n",
    "\n",
    "X = merged_df.drop('3005', axis=1) \n",
    "y = merged_df['3005']\n",
    "\n",
    "X_train = X[:round(s*0.8)]\n",
    "y_train = y[:round(s*0.8)]\n",
    "\n",
    "X_test = X[round(s*0.9):]\n",
    "y_test = y[round(s*0.9):]\n",
    "\n",
    "X_val = X[round(s*0.8):round(s*0.9)]\n",
    "y_val = y[round(s*0.8):round(s*0.9)]\n",
    "\n",
    "\n",
    "scaler = StandardScaler()\n",
    "X_train = scaler.fit_transform(X_train)\n",
    "X_test = scaler.transform(X_test)\n",
    "X_val = scaler.transform(X_val)\n"
   ]
  },
  {
   "cell_type": "code",
   "execution_count": 10,
   "id": "4a1a9d7f",
   "metadata": {},
   "outputs": [
    {
     "data": {
      "text/plain": [
       "((1389, 220), (1389,))"
      ]
     },
     "execution_count": 10,
     "metadata": {},
     "output_type": "execute_result"
    }
   ],
   "source": [
    "X_test.shape, y_test.shape"
   ]
  },
  {
   "cell_type": "code",
   "execution_count": 11,
   "id": "2fa448f0",
   "metadata": {},
   "outputs": [],
   "source": [
    "# X_train_tensor = torch.from_numpy(X_train.astype(np.float32))\n",
    "# X_test_tensor = torch.from_numpy(X_test.astype(np.float32))\n",
    "# y_train_tensor = torch.from_numpy(y_train.to_numpy().astype(np.float32))\n",
    "# y_test_tensor = torch.from_numpy(y_test.to_numpy().astype(np.float32))"
   ]
  },
  {
   "cell_type": "code",
   "execution_count": 12,
   "id": "a11c819e",
   "metadata": {},
   "outputs": [],
   "source": [
    "class CustomDataset(Dataset):\n",
    "  def __init__(self, features, labels):\n",
    "    self.features = features\n",
    "    self.labels = labels\n",
    "\n",
    "  def __len__(self):\n",
    "    return len(self.features)\n",
    "\n",
    "  def __getitem__(self, idx):\n",
    "    return self.features[idx], self.labels[idx]\n",
    "  \n",
    "class SequenceDataset(Dataset):\n",
    "    def __init__(self, features, labels, sequence_length = 20):\n",
    "        \"\"\"\n",
    "        features: shape (N, num_features)\n",
    "        labels: shape (N,) or (N, 1)\n",
    "        sequence_length: number of time steps in each input sequence\n",
    "        \"\"\"\n",
    "        self.sequence_length = sequence_length\n",
    "\n",
    "        self.features = torch.tensor(features, dtype=torch.float32)\n",
    "        self.labels = torch.tensor(labels.to_numpy(), dtype=torch.float32)\n",
    "\n",
    "        # Ensure labels have shape (N, 1)\n",
    "        if self.labels.ndim == 1:\n",
    "            self.labels = self.labels.unsqueeze(1)\n",
    "\n",
    "    def __len__(self):\n",
    "        return len(self.features) - self.sequence_length\n",
    "\n",
    "    def __getitem__(self, idx):\n",
    "        x = self.features[idx : idx + self.sequence_length]  # shape: (seq_len, num_features)\n",
    "        y = self.labels[idx + self.sequence_length]          # target: next step\n",
    "        return x, y\n"
   ]
  },
  {
   "cell_type": "code",
   "execution_count": 13,
   "id": "2763b27b",
   "metadata": {},
   "outputs": [],
   "source": [
    "train_dataset = SequenceDataset(X_train, y_train)\n",
    "test_dataset = SequenceDataset(X_test, y_test)\n",
    "val_dataset = SequenceDataset(X_val, y_val)\n",
    "\n",
    "train_loader = DataLoader(\n",
    "                    train_dataset,\n",
    "                    batch_size=32,\n",
    "                    shuffle=True)\n",
    "\n",
    "test_loader = DataLoader(\n",
    "                    test_dataset,\n",
    "                    batch_size=32,\n",
    "                    shuffle=True)\n",
    "val_loader = DataLoader(\n",
    "                    val_dataset,\n",
    "                    batch_size=32,\n",
    "                    shuffle=True\n",
    ")\n",
    "\n",
    "\n"
   ]
  },
  {
   "cell_type": "code",
   "execution_count": 14,
   "id": "62b1df56",
   "metadata": {},
   "outputs": [],
   "source": [
    "# # Map static features to initial hidden and cell state\n",
    "# self.static_to_h = nn.Linear(static_size, hidden_size * num_layers)\n",
    "# self.static_to_c = nn.Linear(static_size, hidden_size * num_layers)\n",
    "\n",
    "# # Map static -> (batch_size, hidden_size * num_layers)\n",
    "# h0 = self.static_to_h(x_static).view(self.num_layers, batch_size, self.hidden_size)\n",
    "# c0 = self.static_to_c(x_static).view(self.num_layers, batch_size, self.hidden_size)\n",
    "        \n",
    "import torch.nn as nn\n",
    "\n",
    "class LSTMModel(nn.Module):\n",
    "    def __init__(self, input_size, num_layers):\n",
    "        super().__init__()\n",
    "\n",
    "        self.lstm1 = nn.LSTM(input_size, 256, num_layers, batch_first=True)\n",
    "        self.dropout1 = nn.Dropout(0.5)\n",
    "        self.relu1 = nn.ReLU()\n",
    "\n",
    "        self.lstm2 = nn.LSTM(256, 128, num_layers, batch_first=True)\n",
    "        self.dropout2 = nn.Dropout(0.5)\n",
    "        self.relu2 = nn.ReLU()\n",
    "\n",
    "        self.lstm3 = nn.LSTM(128, 32, num_layers, batch_first=True)\n",
    "        self.dropout3 = nn.Dropout(0.5)\n",
    "        self.relu3 = nn.ReLU()\n",
    "\n",
    "        self.fc = nn.Linear(32, 1)\n",
    "\n",
    "    def forward(self, x):\n",
    "        out, _ = self.lstm1(x)\n",
    "        out = self.dropout1(out)\n",
    "        out = self.relu1(out)\n",
    "\n",
    "        out, _ = self.lstm2(out)\n",
    "        out = self.dropout2(out)\n",
    "        out = self.relu2(out)\n",
    "\n",
    "        out, _ = self.lstm3(out)\n",
    "        out = self.dropout3(out)\n",
    "        out = self.relu3(out)\n",
    "\n",
    "        out = out[:, -1, :]  # Last time step\n",
    "        out = self.fc(out)\n",
    "        return out\n"
   ]
  },
  {
   "cell_type": "code",
   "execution_count": 15,
   "id": "5836472b",
   "metadata": {},
   "outputs": [
    {
     "data": {
      "text/plain": [
       "LSTMModel(\n",
       "  (lstm1): LSTM(220, 256, batch_first=True)\n",
       "  (dropout1): Dropout(p=0.5, inplace=False)\n",
       "  (relu1): ReLU()\n",
       "  (lstm2): LSTM(256, 128, batch_first=True)\n",
       "  (dropout2): Dropout(p=0.5, inplace=False)\n",
       "  (relu2): ReLU()\n",
       "  (lstm3): LSTM(128, 32, batch_first=True)\n",
       "  (dropout3): Dropout(p=0.5, inplace=False)\n",
       "  (relu3): ReLU()\n",
       "  (fc): Linear(in_features=32, out_features=1, bias=True)\n",
       ")"
      ]
     },
     "execution_count": 15,
     "metadata": {},
     "output_type": "execute_result"
    }
   ],
   "source": [
    "num_features = X_train.shape[1]\n",
    "model = LSTMModel(input_size=num_features, num_layers=1)\n",
    "model.to(\"cuda\")\n"
   ]
  },
  {
   "cell_type": "code",
   "execution_count": 16,
   "id": "71eed139",
   "metadata": {},
   "outputs": [
    {
     "name": "stderr",
     "output_type": "stream",
     "text": [
      "\u001b[34m\u001b[1mwandb\u001b[0m: Using wandb-core as the SDK backend.  Please refer to https://wandb.me/wandb-core for more information.\n",
      "\u001b[34m\u001b[1mwandb\u001b[0m: Currently logged in as: \u001b[33makshatshaw47\u001b[0m (\u001b[33makshatshaw47-iit-roorkee\u001b[0m). Use \u001b[1m`wandb login --relogin`\u001b[0m to force relogin\n"
     ]
    },
    {
     "data": {
      "text/plain": [
       "True"
      ]
     },
     "execution_count": 16,
     "metadata": {},
     "output_type": "execute_result"
    }
   ],
   "source": [
    "import wandb\n",
    "wandb.login()"
   ]
  },
  {
   "cell_type": "code",
   "execution_count": 17,
   "id": "fc1b700e",
   "metadata": {},
   "outputs": [
    {
     "data": {
      "text/html": [
       "Tracking run with wandb version 0.19.1"
      ],
      "text/plain": [
       "<IPython.core.display.HTML object>"
      ]
     },
     "metadata": {},
     "output_type": "display_data"
    },
    {
     "data": {
      "text/html": [
       "Run data is saved locally in <code>c:\\Users\\AKSHAT SHAW\\OneDrive - iitr.ac.in\\Desktop\\Spark_25_project\\wandb\\run-20250523_022654-fca6l430</code>"
      ],
      "text/plain": [
       "<IPython.core.display.HTML object>"
      ]
     },
     "metadata": {},
     "output_type": "display_data"
    },
    {
     "data": {
      "text/html": [
       "Syncing run <strong><a href='https://wandb.ai/akshatshaw47-iit-roorkee/spark%2725-lstm-testing/runs/fca6l430' target=\"_blank\">test3</a></strong> to <a href='https://wandb.ai/akshatshaw47-iit-roorkee/spark%2725-lstm-testing' target=\"_blank\">Weights & Biases</a> (<a href='https://wandb.me/developer-guide' target=\"_blank\">docs</a>)<br>"
      ],
      "text/plain": [
       "<IPython.core.display.HTML object>"
      ]
     },
     "metadata": {},
     "output_type": "display_data"
    },
    {
     "data": {
      "text/html": [
       " View project at <a href='https://wandb.ai/akshatshaw47-iit-roorkee/spark%2725-lstm-testing' target=\"_blank\">https://wandb.ai/akshatshaw47-iit-roorkee/spark%2725-lstm-testing</a>"
      ],
      "text/plain": [
       "<IPython.core.display.HTML object>"
      ]
     },
     "metadata": {},
     "output_type": "display_data"
    },
    {
     "data": {
      "text/html": [
       " View run at <a href='https://wandb.ai/akshatshaw47-iit-roorkee/spark%2725-lstm-testing/runs/fca6l430' target=\"_blank\">https://wandb.ai/akshatshaw47-iit-roorkee/spark%2725-lstm-testing/runs/fca6l430</a>"
      ],
      "text/plain": [
       "<IPython.core.display.HTML object>"
      ]
     },
     "metadata": {},
     "output_type": "display_data"
    },
    {
     "data": {
      "text/html": [
       "<button onClick=\"this.nextSibling.style.display='block';this.style.display='none';\">Display W&B run</button><iframe src='https://wandb.ai/akshatshaw47-iit-roorkee/spark%2725-lstm-testing/runs/fca6l430?jupyter=true' style='border:none;width:100%;height:420px;display:none;'></iframe>"
      ],
      "text/plain": [
       "<wandb.sdk.wandb_run.Run at 0x28481e4fc10>"
      ]
     },
     "execution_count": 17,
     "metadata": {},
     "output_type": "execute_result"
    }
   ],
   "source": [
    "\n",
    "wandb.init(project=\"spark'25-lstm-testing\", \n",
    "    name = 'test3',\n",
    "    config={\n",
    "    \"epochs\": 1000,\n",
    "    \"batch_size\": 64,\n",
    "    \"lr\": 0.0001,\n",
    "    \"optimizer\": \"Adam\",\n",
    "    \"loss_fn\": \"MSELoss\",\n",
    "    \"model\": \"LSTM\"\n",
    "})\n"
   ]
  },
  {
   "cell_type": "code",
   "execution_count": 18,
   "id": "94dbf32f",
   "metadata": {},
   "outputs": [],
   "source": [
    "class LogRMSELoss(nn.Module):\n",
    "    def __init__(self, eps=1e-6):\n",
    "        super().__init__()\n",
    "        self.eps = eps  # to avoid log(0)\n",
    "\n",
    "    def forward(self, pred, target):\n",
    "        # Clamp values to avoid log(0)\n",
    "        pred = torch.clamp(pred, min=self.eps)\n",
    "        target = torch.clamp(target, min=self.eps)\n",
    "\n",
    "        # Compute log RMSE\n",
    "        log_pred = torch.log(pred)\n",
    "        log_target = torch.log(target)\n",
    "        loss = torch.sqrt(torch.mean((log_pred - log_target) ** 2))\n",
    "        return loss\n"
   ]
  },
  {
   "cell_type": "code",
   "execution_count": 19,
   "id": "bd0a9e0e",
   "metadata": {},
   "outputs": [
    {
     "name": "stdout",
     "output_type": "stream",
     "text": [
      "Epoch 1, Train Loss: 6.8546, Val Loss: 3.2792\n",
      "Epoch 2, Train Loss: 3.0306, Val Loss: 2.6012\n",
      "Epoch 3, Train Loss: 2.6766, Val Loss: 2.4457\n",
      "Epoch 4, Train Loss: 2.5244, Val Loss: 2.3500\n",
      "Epoch 5, Train Loss: 2.4293, Val Loss: 2.2792\n",
      "Epoch 6, Train Loss: 2.3718, Val Loss: 2.2215\n",
      "Epoch 7, Train Loss: 2.3143, Val Loss: 2.1644\n",
      "Epoch 8, Train Loss: 2.2571, Val Loss: 2.1142\n",
      "Epoch 9, Train Loss: 2.1916, Val Loss: 2.0604\n",
      "Epoch 10, Train Loss: 2.1497, Val Loss: 2.0120\n",
      "Epoch 11, Train Loss: 2.1116, Val Loss: 1.9696\n",
      "Epoch 12, Train Loss: 2.0508, Val Loss: 1.9264\n",
      "Epoch 13, Train Loss: 2.0179, Val Loss: 1.8824\n",
      "Epoch 14, Train Loss: 1.9636, Val Loss: 1.8406\n",
      "Epoch 15, Train Loss: 1.9198, Val Loss: 1.8022\n",
      "Epoch 16, Train Loss: 1.8827, Val Loss: 1.7635\n",
      "Epoch 17, Train Loss: 1.8512, Val Loss: 1.7281\n",
      "Epoch 18, Train Loss: 1.8155, Val Loss: 1.6889\n",
      "Epoch 19, Train Loss: 1.7731, Val Loss: 1.6578\n",
      "Epoch 20, Train Loss: 1.7421, Val Loss: 1.6277\n",
      "Epoch 21, Train Loss: 1.7071, Val Loss: 1.6002\n",
      "Epoch 22, Train Loss: 1.6671, Val Loss: 1.5732\n",
      "Epoch 23, Train Loss: 1.6594, Val Loss: 1.5447\n",
      "Epoch 24, Train Loss: 1.6138, Val Loss: 1.5184\n",
      "Epoch 25, Train Loss: 1.5859, Val Loss: 1.4955\n",
      "Epoch 26, Train Loss: 1.5652, Val Loss: 1.4715\n",
      "Epoch 27, Train Loss: 1.5425, Val Loss: 1.4513\n",
      "Epoch 28, Train Loss: 1.5180, Val Loss: 1.4359\n",
      "Epoch 29, Train Loss: 1.4973, Val Loss: 1.4159\n",
      "Epoch 30, Train Loss: 1.4811, Val Loss: 1.3997\n",
      "Epoch 31, Train Loss: 1.4584, Val Loss: 1.3812\n",
      "Epoch 32, Train Loss: 1.4406, Val Loss: 1.3721\n",
      "Epoch 33, Train Loss: 1.4310, Val Loss: 1.3589\n",
      "Epoch 34, Train Loss: 1.4162, Val Loss: 1.3448\n",
      "Epoch 35, Train Loss: 1.4012, Val Loss: 1.3354\n",
      "Epoch 36, Train Loss: 1.3859, Val Loss: 1.3275\n",
      "Epoch 37, Train Loss: 1.3741, Val Loss: 1.3199\n",
      "Epoch 38, Train Loss: 1.3647, Val Loss: 1.3113\n",
      "Epoch 39, Train Loss: 1.2644, Val Loss: 1.1050\n",
      "Epoch 40, Train Loss: 1.1841, Val Loss: 1.1301\n",
      "Epoch 41, Train Loss: 1.1430, Val Loss: 1.0707\n",
      "Epoch 42, Train Loss: 1.0923, Val Loss: 1.0914\n",
      "Epoch 43, Train Loss: 1.0411, Val Loss: 1.1117\n",
      "Epoch 44, Train Loss: 1.0007, Val Loss: 1.0919\n",
      "Epoch 45, Train Loss: 0.9853, Val Loss: 1.0712\n",
      "Epoch 46, Train Loss: 0.9444, Val Loss: 1.0364\n",
      "Epoch 47, Train Loss: 0.9178, Val Loss: 1.0720\n",
      "Epoch 48, Train Loss: 0.8958, Val Loss: 1.0725\n",
      "Epoch 49, Train Loss: 0.8698, Val Loss: 1.0289\n",
      "Epoch 50, Train Loss: 0.8614, Val Loss: 1.0567\n",
      "Epoch 51, Train Loss: 0.8366, Val Loss: 1.0352\n",
      "Epoch 52, Train Loss: 0.8157, Val Loss: 1.0104\n",
      "Epoch 53, Train Loss: 0.8136, Val Loss: 1.0476\n",
      "Epoch 54, Train Loss: 0.7784, Val Loss: 1.0299\n",
      "Epoch 55, Train Loss: 0.7585, Val Loss: 1.0052\n",
      "Epoch 56, Train Loss: 0.7452, Val Loss: 1.0016\n",
      "Epoch 57, Train Loss: 0.7408, Val Loss: 1.0045\n",
      "Epoch 58, Train Loss: 0.7259, Val Loss: 0.9965\n",
      "Epoch 59, Train Loss: 0.6992, Val Loss: 1.0139\n",
      "Epoch 60, Train Loss: 0.6854, Val Loss: 0.9602\n",
      "Epoch 61, Train Loss: 0.6856, Val Loss: 0.9872\n",
      "Epoch 62, Train Loss: 0.6665, Val Loss: 0.9747\n",
      "Epoch 63, Train Loss: 0.6589, Val Loss: 1.0084\n",
      "Epoch 64, Train Loss: 0.6494, Val Loss: 0.9500\n",
      "Epoch 65, Train Loss: 0.6315, Val Loss: 0.9736\n",
      "Epoch 66, Train Loss: 0.6287, Val Loss: 0.9575\n",
      "Epoch 67, Train Loss: 0.6608, Val Loss: 0.9783\n",
      "Epoch 68, Train Loss: 0.6180, Val Loss: 0.9601\n",
      "Epoch 69, Train Loss: 0.5971, Val Loss: 0.9690\n",
      "Epoch 70, Train Loss: 0.5910, Val Loss: 0.9443\n",
      "Epoch 71, Train Loss: 0.5850, Val Loss: 0.9486\n",
      "Epoch 72, Train Loss: 0.5694, Val Loss: 0.9421\n",
      "Epoch 73, Train Loss: 0.5700, Val Loss: 0.9539\n",
      "Epoch 74, Train Loss: 0.5716, Val Loss: 0.9507\n",
      "Epoch 75, Train Loss: 0.5481, Val Loss: 0.9104\n",
      "Epoch 76, Train Loss: 0.5404, Val Loss: 0.8784\n",
      "Epoch 77, Train Loss: 0.5358, Val Loss: 0.8918\n",
      "Epoch 78, Train Loss: 0.5291, Val Loss: 0.8927\n",
      "Epoch 79, Train Loss: 0.5223, Val Loss: 0.9175\n",
      "Epoch 80, Train Loss: 0.5242, Val Loss: 0.8876\n",
      "Epoch 81, Train Loss: 0.5087, Val Loss: 0.8943\n",
      "Epoch 82, Train Loss: 0.5208, Val Loss: 0.8853\n",
      "Epoch 83, Train Loss: 0.5103, Val Loss: 0.8942\n",
      "Epoch 84, Train Loss: 0.4995, Val Loss: 0.8870\n",
      "Epoch 85, Train Loss: 0.4938, Val Loss: 0.8835\n",
      "Epoch 86, Train Loss: 0.4883, Val Loss: 0.8991\n",
      "Epoch 87, Train Loss: 0.4809, Val Loss: 0.8297\n",
      "Epoch 88, Train Loss: 0.4710, Val Loss: 0.8337\n",
      "Epoch 89, Train Loss: 0.4755, Val Loss: 0.8877\n",
      "Epoch 90, Train Loss: 0.4727, Val Loss: 0.8144\n",
      "Epoch 91, Train Loss: 0.4666, Val Loss: 0.8513\n",
      "Epoch 92, Train Loss: 0.4759, Val Loss: 0.8169\n",
      "Epoch 93, Train Loss: 0.4612, Val Loss: 0.8344\n",
      "Epoch 94, Train Loss: 0.4592, Val Loss: 0.8579\n",
      "Epoch 95, Train Loss: 0.4538, Val Loss: 0.8359\n",
      "Epoch 96, Train Loss: 0.4497, Val Loss: 0.8526\n",
      "Epoch 97, Train Loss: 0.4425, Val Loss: 0.8557\n",
      "Epoch 98, Train Loss: 0.4430, Val Loss: 0.8824\n",
      "Epoch 99, Train Loss: 0.4345, Val Loss: 0.8354\n",
      "Epoch 100, Train Loss: 0.4342, Val Loss: 0.8720\n",
      "Epoch 101, Train Loss: 0.4310, Val Loss: 0.8211\n",
      "Epoch 102, Train Loss: 0.4268, Val Loss: 0.7883\n",
      "Epoch 103, Train Loss: 0.4239, Val Loss: 0.8105\n",
      "Epoch 104, Train Loss: 0.4144, Val Loss: 0.8385\n",
      "Epoch 105, Train Loss: 0.4160, Val Loss: 0.8586\n",
      "Epoch 106, Train Loss: 0.4180, Val Loss: 0.8587\n",
      "Epoch 107, Train Loss: 0.4232, Val Loss: 0.8620\n",
      "Epoch 108, Train Loss: 0.4081, Val Loss: 0.8400\n",
      "Epoch 109, Train Loss: 0.4032, Val Loss: 0.8715\n",
      "Epoch 110, Train Loss: 0.4081, Val Loss: 0.8489\n",
      "Epoch 111, Train Loss: 0.4113, Val Loss: 0.8555\n",
      "Epoch 112, Train Loss: 0.4018, Val Loss: 0.8214\n",
      "Epoch 113, Train Loss: 0.3952, Val Loss: 0.8649\n",
      "Epoch 114, Train Loss: 0.3942, Val Loss: 0.8517\n",
      "Epoch 115, Train Loss: 0.3931, Val Loss: 0.8635\n",
      "Epoch 116, Train Loss: 0.3903, Val Loss: 0.8426\n",
      "Epoch 117, Train Loss: 0.3888, Val Loss: 0.8578\n",
      "Epoch 118, Train Loss: 0.3928, Val Loss: 0.8426\n",
      "Epoch 119, Train Loss: 0.3859, Val Loss: 0.9000\n",
      "Epoch 120, Train Loss: 0.3887, Val Loss: 0.8756\n",
      "Epoch 121, Train Loss: 0.3904, Val Loss: 0.8299\n",
      "Epoch 122, Train Loss: 0.3917, Val Loss: 0.8867\n",
      "Epoch 123, Train Loss: 0.3886, Val Loss: 0.8390\n",
      "Epoch 124, Train Loss: 0.3806, Val Loss: 0.8288\n",
      "Epoch 125, Train Loss: 0.3922, Val Loss: 0.8294\n",
      "Epoch 126, Train Loss: 0.3888, Val Loss: 0.8494\n",
      "Epoch 127, Train Loss: 0.3727, Val Loss: 0.8729\n",
      "Epoch 128, Train Loss: 0.3701, Val Loss: 0.8574\n",
      "Epoch 129, Train Loss: 0.3724, Val Loss: 0.8813\n",
      "Epoch 130, Train Loss: 0.3695, Val Loss: 0.8785\n",
      "Epoch 131, Train Loss: 0.3675, Val Loss: 0.8576\n",
      "Epoch 132, Train Loss: 0.3609, Val Loss: 0.8593\n",
      "Epoch 133, Train Loss: 0.3615, Val Loss: 0.8571\n",
      "Epoch 134, Train Loss: 0.3567, Val Loss: 0.8684\n",
      "Epoch 135, Train Loss: 0.3561, Val Loss: 0.8608\n",
      "Epoch 136, Train Loss: 0.3540, Val Loss: 0.8785\n",
      "Epoch 137, Train Loss: 0.3507, Val Loss: 0.8671\n",
      "Epoch 138, Train Loss: 0.3565, Val Loss: 0.8765\n",
      "Epoch 139, Train Loss: 0.3594, Val Loss: 0.8532\n",
      "Epoch 140, Train Loss: 0.3547, Val Loss: 0.8532\n",
      "Epoch 141, Train Loss: 0.3574, Val Loss: 0.8783\n",
      "Epoch 142, Train Loss: 0.3573, Val Loss: 0.8557\n",
      "Epoch 143, Train Loss: 0.3508, Val Loss: 0.8920\n",
      "Epoch 144, Train Loss: 0.3517, Val Loss: 0.8777\n",
      "Epoch 145, Train Loss: 0.3468, Val Loss: 0.8789\n",
      "Epoch 146, Train Loss: 0.3378, Val Loss: 0.8898\n",
      "Epoch 147, Train Loss: 0.3521, Val Loss: 0.8775\n",
      "Epoch 148, Train Loss: 0.3593, Val Loss: 0.8431\n",
      "Epoch 149, Train Loss: 0.3413, Val Loss: 0.8237\n",
      "Epoch 150, Train Loss: 0.3410, Val Loss: 0.8706\n",
      "Epoch 151, Train Loss: 0.3457, Val Loss: 0.8686\n",
      "Epoch 152, Train Loss: 0.3355, Val Loss: 0.8494\n",
      "Epoch 153, Train Loss: 0.3375, Val Loss: 0.8326\n",
      "Epoch 154, Train Loss: 0.3433, Val Loss: 0.8390\n",
      "Epoch 155, Train Loss: 0.3366, Val Loss: 0.8736\n",
      "Epoch 156, Train Loss: 0.3481, Val Loss: 0.8642\n",
      "Epoch 157, Train Loss: 0.3485, Val Loss: 0.8750\n"
     ]
    },
    {
     "ename": "KeyboardInterrupt",
     "evalue": "",
     "output_type": "error",
     "traceback": [
      "\u001b[1;31m---------------------------------------------------------------------------\u001b[0m",
      "\u001b[1;31mKeyboardInterrupt\u001b[0m                         Traceback (most recent call last)",
      "Cell \u001b[1;32mIn[19], line 15\u001b[0m\n\u001b[0;32m     12\u001b[0m loss \u001b[38;5;241m=\u001b[39m criterion(pred, yb)\n\u001b[0;32m     14\u001b[0m optimizer\u001b[38;5;241m.\u001b[39mzero_grad()\n\u001b[1;32m---> 15\u001b[0m loss\u001b[38;5;241m.\u001b[39mbackward()\n\u001b[0;32m     16\u001b[0m optimizer\u001b[38;5;241m.\u001b[39mstep()\n\u001b[0;32m     18\u001b[0m train_loss \u001b[38;5;241m+\u001b[39m\u001b[38;5;241m=\u001b[39m loss\u001b[38;5;241m.\u001b[39mitem()\n",
      "File \u001b[1;32mc:\\Users\\AKSHAT SHAW\\anaconda3\\Lib\\site-packages\\torch\\_tensor.py:581\u001b[0m, in \u001b[0;36mTensor.backward\u001b[1;34m(self, gradient, retain_graph, create_graph, inputs)\u001b[0m\n\u001b[0;32m    571\u001b[0m \u001b[38;5;28;01mif\u001b[39;00m has_torch_function_unary(\u001b[38;5;28mself\u001b[39m):\n\u001b[0;32m    572\u001b[0m     \u001b[38;5;28;01mreturn\u001b[39;00m handle_torch_function(\n\u001b[0;32m    573\u001b[0m         Tensor\u001b[38;5;241m.\u001b[39mbackward,\n\u001b[0;32m    574\u001b[0m         (\u001b[38;5;28mself\u001b[39m,),\n\u001b[1;32m   (...)\u001b[0m\n\u001b[0;32m    579\u001b[0m         inputs\u001b[38;5;241m=\u001b[39minputs,\n\u001b[0;32m    580\u001b[0m     )\n\u001b[1;32m--> 581\u001b[0m torch\u001b[38;5;241m.\u001b[39mautograd\u001b[38;5;241m.\u001b[39mbackward(\n\u001b[0;32m    582\u001b[0m     \u001b[38;5;28mself\u001b[39m, gradient, retain_graph, create_graph, inputs\u001b[38;5;241m=\u001b[39minputs\n\u001b[0;32m    583\u001b[0m )\n",
      "File \u001b[1;32mc:\\Users\\AKSHAT SHAW\\anaconda3\\Lib\\site-packages\\torch\\autograd\\__init__.py:347\u001b[0m, in \u001b[0;36mbackward\u001b[1;34m(tensors, grad_tensors, retain_graph, create_graph, grad_variables, inputs)\u001b[0m\n\u001b[0;32m    342\u001b[0m     retain_graph \u001b[38;5;241m=\u001b[39m create_graph\n\u001b[0;32m    344\u001b[0m \u001b[38;5;66;03m# The reason we repeat the same comment below is that\u001b[39;00m\n\u001b[0;32m    345\u001b[0m \u001b[38;5;66;03m# some Python versions print out the first line of a multi-line function\u001b[39;00m\n\u001b[0;32m    346\u001b[0m \u001b[38;5;66;03m# calls in the traceback and some print out the last line\u001b[39;00m\n\u001b[1;32m--> 347\u001b[0m _engine_run_backward(\n\u001b[0;32m    348\u001b[0m     tensors,\n\u001b[0;32m    349\u001b[0m     grad_tensors_,\n\u001b[0;32m    350\u001b[0m     retain_graph,\n\u001b[0;32m    351\u001b[0m     create_graph,\n\u001b[0;32m    352\u001b[0m     inputs,\n\u001b[0;32m    353\u001b[0m     allow_unreachable\u001b[38;5;241m=\u001b[39m\u001b[38;5;28;01mTrue\u001b[39;00m,\n\u001b[0;32m    354\u001b[0m     accumulate_grad\u001b[38;5;241m=\u001b[39m\u001b[38;5;28;01mTrue\u001b[39;00m,\n\u001b[0;32m    355\u001b[0m )\n",
      "File \u001b[1;32mc:\\Users\\AKSHAT SHAW\\anaconda3\\Lib\\site-packages\\torch\\autograd\\graph.py:825\u001b[0m, in \u001b[0;36m_engine_run_backward\u001b[1;34m(t_outputs, *args, **kwargs)\u001b[0m\n\u001b[0;32m    823\u001b[0m     unregister_hooks \u001b[38;5;241m=\u001b[39m _register_logging_hooks_on_whole_graph(t_outputs)\n\u001b[0;32m    824\u001b[0m \u001b[38;5;28;01mtry\u001b[39;00m:\n\u001b[1;32m--> 825\u001b[0m     \u001b[38;5;28;01mreturn\u001b[39;00m Variable\u001b[38;5;241m.\u001b[39m_execution_engine\u001b[38;5;241m.\u001b[39mrun_backward(  \u001b[38;5;66;03m# Calls into the C++ engine to run the backward pass\u001b[39;00m\n\u001b[0;32m    826\u001b[0m         t_outputs, \u001b[38;5;241m*\u001b[39margs, \u001b[38;5;241m*\u001b[39m\u001b[38;5;241m*\u001b[39mkwargs\n\u001b[0;32m    827\u001b[0m     )  \u001b[38;5;66;03m# Calls into the C++ engine to run the backward pass\u001b[39;00m\n\u001b[0;32m    828\u001b[0m \u001b[38;5;28;01mfinally\u001b[39;00m:\n\u001b[0;32m    829\u001b[0m     \u001b[38;5;28;01mif\u001b[39;00m attach_logging_hooks:\n",
      "\u001b[1;31mKeyboardInterrupt\u001b[0m: "
     ]
    }
   ],
   "source": [
    "# criterion = nn.MSELoss()\n",
    "criterion = LogRMSELoss()\n",
    "optimizer = optim.Adam(model.parameters(), lr=0.0001)\n",
    "device = torch.device(\"cuda\" if torch.cuda.is_available() else \"cpu\")\n",
    "# Training loop with validation\n",
    "for epoch in range(1000):\n",
    "    model.train()\n",
    "    train_loss = 0.0\n",
    "    for xb, yb in train_loader:\n",
    "        xb, yb = xb.to(device), yb.to(device)\n",
    "        pred = model(xb)\n",
    "        loss = criterion(pred, yb)\n",
    "\n",
    "        optimizer.zero_grad()\n",
    "        loss.backward()\n",
    "        optimizer.step()\n",
    "\n",
    "        train_loss += loss.item()\n",
    "\n",
    "    # Validation\n",
    "    model.eval()\n",
    "    val_loss = 0.0\n",
    "    with torch.no_grad():\n",
    "        for xb, yb in val_loader:\n",
    "            xb, yb = xb.to(device), yb.to(device)\n",
    "            pred = model(xb)\n",
    "            loss = criterion(pred, yb)\n",
    "            val_loss += loss.item()\n",
    "\n",
    "    train_loss /= len(train_loader)\n",
    "    val_loss /= len(val_loader)\n",
    "\n",
    "    print(f\"Epoch {epoch+1}, Train Loss: {train_loss:.4f}, Val Loss: {val_loss:.4f}\")\n",
    "    wandb.log({\"epoch\": epoch+1, \"train_loss\": train_loss, \"val_loss\": val_loss})"
   ]
  },
  {
   "cell_type": "code",
   "execution_count": null,
   "id": "7530366b",
   "metadata": {},
   "outputs": [],
   "source": []
  }
 ],
 "metadata": {
  "kernelspec": {
   "display_name": "venv",
   "language": "python",
   "name": "python3"
  },
  "language_info": {
   "codemirror_mode": {
    "name": "ipython",
    "version": 3
   },
   "file_extension": ".py",
   "mimetype": "text/x-python",
   "name": "python",
   "nbconvert_exporter": "python",
   "pygments_lexer": "ipython3",
   "version": "3.11.5"
  }
 },
 "nbformat": 4,
 "nbformat_minor": 5
}
